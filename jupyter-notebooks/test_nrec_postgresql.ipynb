{
 "cells": [
  {
   "cell_type": "code",
   "execution_count": 13,
   "metadata": {},
   "outputs": [],
   "source": [
    "import psycopg2\n",
    "import os\n",
    "from dotenv import load_dotenv"
   ]
  },
  {
   "cell_type": "code",
   "execution_count": 14,
   "metadata": {},
   "outputs": [
    {
     "name": "stdout",
     "output_type": "stream",
     "text": [
      "hostname: 158.39.77.21\n",
      "(1, 'John', 30)\n",
      "(2, 'Alice', 25)\n",
      "(3, 'Bob', 35)\n",
      "(4, 'John', 30)\n",
      "(5, 'Alice', 25)\n",
      "(6, 'Bob', 35)\n"
     ]
    }
   ],
   "source": [
    "# Replace 'hostname' and 'username' with actual values\n",
    "load_dotenv()\n",
    "hostname = os.getenv('hostname')\n",
    "username = os.getenv('username')\n",
    "database = os.getenv('database')\n",
    "password = os.getenv('password')\n",
    "\n",
    "print(f'hostname: {hostname}')\n",
    "\n",
    "# Establish connection to PostgreSQL server\n",
    "conn = psycopg2.connect(host=hostname, user=username, password=password, database=database)\n",
    "\n",
    "# Create a cursor object\n",
    "cur = conn.cursor()\n",
    "\n",
    "# Example: Create a table\n",
    "create_table_query = '''\n",
    "    CREATE TABLE IF NOT EXISTS test (\n",
    "        id SERIAL PRIMARY KEY,\n",
    "        name VARCHAR(100),\n",
    "        age INTEGER\n",
    "    )\n",
    "'''\n",
    "cur.execute(create_table_query)\n",
    "\n",
    "# Example: Insert data into the table\n",
    "insert_data_query = '''\n",
    "    INSERT INTO test (name, age) VALUES (%s, %s)\n",
    "'''\n",
    "data_to_insert = [('John', 30), ('Alice', 25), ('Bob', 35)]  # Example data\n",
    "cur.executemany(insert_data_query, data_to_insert)\n",
    "\n",
    "# Commit the transaction\n",
    "conn.commit()\n",
    "\n",
    "# Execute SQL queries\n",
    "cur.execute(\"SELECT * FROM test\")\n",
    "\n",
    "# Fetch results\n",
    "rows = cur.fetchall()\n",
    "\n",
    "# Print results\n",
    "for row in rows:\n",
    "    print(row)\n",
    "\n",
    "# Close cursor and connection\n",
    "cur.close()\n",
    "conn.close()\n"
   ]
  }
 ],
 "metadata": {
  "kernelspec": {
   "display_name": "Python 3",
   "language": "python",
   "name": "python3"
  },
  "language_info": {
   "codemirror_mode": {
    "name": "ipython",
    "version": 3
   },
   "file_extension": ".py",
   "mimetype": "text/x-python",
   "name": "python",
   "nbconvert_exporter": "python",
   "pygments_lexer": "ipython3",
   "version": "3.11.0"
  }
 },
 "nbformat": 4,
 "nbformat_minor": 2
}
